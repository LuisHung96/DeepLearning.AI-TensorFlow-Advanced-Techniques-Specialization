version https://git-lfs.github.com/spec/v1
oid sha256:25e99eab8ce111dfc7d739808b01c018cddf20d10d1604abe2712857f95a6514
size 419014
