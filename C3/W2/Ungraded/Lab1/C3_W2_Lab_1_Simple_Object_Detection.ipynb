version https://git-lfs.github.com/spec/v1
oid sha256:6a478dafe2cf81db81fd53a2dd5f16079a7e5eeaa0492c24703a548c215d9b66
size 22961
