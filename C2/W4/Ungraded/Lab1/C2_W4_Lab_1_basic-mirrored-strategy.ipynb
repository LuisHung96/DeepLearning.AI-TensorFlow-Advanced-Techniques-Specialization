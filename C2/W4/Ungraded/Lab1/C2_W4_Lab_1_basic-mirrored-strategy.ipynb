version https://git-lfs.github.com/spec/v1
oid sha256:d9a19e162d4a4fabef01b4c0714fb7b0a0ba6ae32b8091e355afa0c4c9852852
size 16593
