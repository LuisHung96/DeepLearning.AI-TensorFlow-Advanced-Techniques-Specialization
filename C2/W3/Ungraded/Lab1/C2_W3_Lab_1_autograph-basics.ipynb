version https://git-lfs.github.com/spec/v1
oid sha256:2fe0642432bb6a9c0c3f86795b3d7d102fcedffed340e1346d8517c98e48e28e
size 10460
