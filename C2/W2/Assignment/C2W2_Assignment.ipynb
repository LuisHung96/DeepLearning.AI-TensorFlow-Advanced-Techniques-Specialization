version https://git-lfs.github.com/spec/v1
oid sha256:f50955c1ba5790a6681a9d0fc49ea6592f63005db2878318a3cbea10230f05f4
size 78371
